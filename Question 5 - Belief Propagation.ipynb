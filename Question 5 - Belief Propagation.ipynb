{
 "cells": [
  {
   "cell_type": "markdown",
   "metadata": {},
   "source": [
    "# IDS 576 - Assignment 3\n",
    "\n",
    "# Belief Propagation - Graph using networkx"
   ]
  },
  {
   "cell_type": "code",
   "execution_count": 54,
   "metadata": {},
   "outputs": [
    {
     "name": "stdout",
     "output_type": "stream",
     "text": [
      "Nodes of graph: \n",
      "['a', 'b', 'c', 'd', 'e', 'f1', 'f2', 'f3', 'f4', 'f5']\n",
      "\n",
      "Graph Network\n"
     ]
    },
    {
     "data": {
      "image/png": "[encoded data removed]",
      "text/plain": [
       "<Figure size 432x288 with 1 Axes>"
      ]
     },
     "metadata": {},
     "output_type": "display_data"
    }
   ],
   "source": [
    "import matplotlib.pyplot as plt\n",
    "import networkx as nx\n",
    "import numpy as np\n",
    "\n",
    "G = nx.Graph()\n",
    "\n",
    "G.add_node('a', support = {1,2})\n",
    "G.add_node('b', support = {1,2})\n",
    "G.add_node('c', support = {1,2})\n",
    "G.add_node('d', support = {1,2})\n",
    "G.add_node('e', support = {1,2})\n",
    "G.add_nodes_from(['f1','f2','f3','f4','f5'])\n",
    "G.add_edges_from([('a', 'f1'), ('f1', 'b'), ('b', 'f2'), ('f2', 'c'), ('f2', 'd'), ('c', 'f3'),('d', 'f5'),('d', 'f4'),('f4', 'e')])\n",
    "\n",
    "print(\"Nodes of graph: \")\n",
    "print(G.nodes())\n",
    "print(\"\\nGraph Network\")\n",
    "\n",
    "#G.Graph\n",
    "graph_pos = nx.spring_layout(G)\n",
    "\n",
    "# draw nodes, edges and labels\n",
    "nx.draw_networkx_nodes(G, graph_pos, node_size=1000, node_color='green', alpha=0.5)\n",
    "nx.draw_networkx_edges(G, graph_pos)\n",
    "nx.draw_networkx_labels(G, graph_pos, font_size=15, font_family='Arial')\n",
    "\n",
    "\n",
    "#nx.draw(G)\n",
    "plt.show()\n",
    "\n"
   ]
  },
  {
   "cell_type": "markdown",
   "metadata": {},
   "source": [
    "#  Belief Propagation Implementation"
   ]
  },
  {
   "cell_type": "code",
   "execution_count": 39,
   "metadata": {},
   "outputs": [
    {
     "data": {
      "text/plain": [
       "{1, 2}"
      ]
     },
     "execution_count": 39,
     "metadata": {},
     "output_type": "execute_result"
    }
   ],
   "source": [
    "G.node['a']['support']"
   ]
  },
  {
   "cell_type": "code",
   "execution_count": 49,
   "metadata": {},
   "outputs": [
    {
     "name": "stdout",
     "output_type": "stream",
     "text": [
      "1. [1, 2, 2, 4]\n",
      "2. [8, 7, 6, 5, 6, 5, 2, 1]\n",
      "3. [1, 2, 2, 4]\n",
      "4. [2 1]\n",
      "5. [2 1]\n"
     ]
    }
   ],
   "source": [
    "import numpy as np\n",
    "a = list((G.node['a']['support']))\n",
    "np_a = np.array(a)\n",
    "\n",
    "b = list((G.node['b']['support']))\n",
    "np_b = np.array(b)\n",
    "\n",
    "c = list((G.node['c']['support']))\n",
    "np_c = np.array(c)\n",
    "\n",
    "d = list((G.node['d']['support']))\n",
    "np_d = np.array(d)\n",
    "\n",
    "e = list((G.node['e']['support']))\n",
    "np_e = np.array(e)\n",
    "\n",
    "#Question - 5.1, 1 and 3 part\n",
    "def f1(x,y):\n",
    "    temp = []\n",
    "    for i in x:\n",
    "        for j in y:\n",
    "            temp.append(i*j)\n",
    "    return temp\n",
    "\n",
    "#Question - 5.1, 2 part\n",
    "def f2(x,y,z):\n",
    "    temp = []\n",
    "    for i in x:\n",
    "        for j in y:\n",
    "            for k in z:\n",
    "                temp.append( 2*(5 - i*j)-k+1 ) \n",
    "    return temp\n",
    "\n",
    "#Question - 5.1, 4 and 5 part\n",
    "def f3(x):\n",
    "    return 3-x\n",
    "\n",
    "result1 = f1(np_a,np_b)\n",
    "result2 = f2(np_b,np_c,np_d)\n",
    "result3 = f1(np_d,np_e)\n",
    "result4 = f3(np_c)\n",
    "result5 = f3(np_d)\n",
    "\n",
    "print(\"1.\",result1)\n",
    "print(\"2.\",result2)\n",
    "print(\"3.\",result3)\n",
    "print(\"4.\",result4)\n",
    "print(\"5.\",result5)\n",
    "\n",
    "# 1. f1(a, b) = a ∗ b (for example, f1(a = 1, b = 2) = 1 ∗ 2 = 2).\n",
    "# 2. f2(b, c, d) = 2 ∗ (5 − b ∗ c) − d + 1.\n",
    "# 3. f4(d, e) = d ∗ e.\n",
    "# 4. f3(c) = 3 − c.\n",
    "# 5. f5(d) = 3 − d."
   ]
  },
  {
   "cell_type": "code",
   "execution_count": 50,
   "metadata": {},
   "outputs": [
    {
     "name": "stdout",
     "output_type": "stream",
     "text": [
      "Message from variable e is --> \n",
      "[1, 1]\n",
      "Summing out on e --> \n",
      "[3 6]\n",
      "Message from variable d to factor f2 is --->\n",
      "[6 6]\n",
      "Normalizing over the array, it can be written as --->\n",
      "[1. 1.]\n",
      "Potential function of b,c,d is ---> \n",
      "[8, 7, 6, 5, 6, 5, 2, 1]\n",
      "Intermediate value for summing over the potential function is -->\n",
      "[15.0, 11.0, 11.0, 3.0]\n",
      "Message from c-->\n",
      "[1, 2, 2, 4]\n",
      "Final output after summing over factor B,C and D is --> \n",
      "[15.0, 22.0, 11.0, 6.0]\n",
      "Summing over possible support values...\n",
      "Element 1 is 37.0\n",
      "Element 2 is 17.0\n",
      "Temporary array holder for the given elements\n",
      "[37. 17.]\n",
      " f1(a,b) is -->\n",
      "[1, 2, 2, 4]\n",
      "Marginals are --> \n",
      "[37.0, 34.0, 74.0, 68.0]\n"
     ]
    }
   ],
   "source": [
    "# initialize messages from node variables to 1\n",
    "message_from_e = [0,0]\n",
    "for i in range(np_e.shape[0]):\n",
    "    message_from_e[i] = 1\n",
    "print(\"Message from variable e is --> \")\n",
    "print(message_from_e)\n",
    "\n",
    "def f4_to_d(d,e):\n",
    "    temp_sum = []\n",
    "    for i in d:\n",
    "        sum = 0\n",
    "        for j in e:\n",
    "            sum = sum + i*j\n",
    "        temp_sum.append(sum)    \n",
    "    return temp_sum\n",
    "\n",
    "def d_to_f2(x,y):\n",
    "    return x * y\n",
    "\n",
    "# summing out on c,d\n",
    "# Input - (b,c,d)\n",
    "def sum_over_cd(b,c,d):\n",
    "    temp = []\n",
    "    for i in b:\n",
    "        sum = 0\n",
    "        for j in c:\n",
    "            for k in d:\n",
    "                sum = sum + 2*(5 - i*j)-k+1\n",
    "        temp.append(sum)\n",
    "    return temp\n",
    "        \n",
    "# compute message from factor f2 to b\n",
    "def f2_to_b(x,y,z):\n",
    "    return np.multiply(x,np.multiply(y,z))\n",
    "\n",
    "\n",
    "\n",
    "def summer(x,potentials):\n",
    "    temp=[]\n",
    "    for j in potentials:\n",
    "        if j % 2 == 0:\n",
    "            temp.append(j*x[0])# do something\n",
    "        else:\n",
    "            temp.append(j*x[1])\n",
    "            # do something\n",
    "    return temp\n",
    "\n",
    "def mul_vals(x):\n",
    "    temp = []\n",
    "    for i in range(0,8,2):\n",
    "        temp.append(x[i] + x[i+1])\n",
    "    return temp\n",
    "\n",
    "\n",
    "def compute_bcd(x,y):\n",
    "    temp=[]\n",
    "    for i in range(4):\n",
    "        if i % 2 == 0:\n",
    "            temp.append(y[i]*x[0])# do something\n",
    "        else:\n",
    "            temp.append(y[i]*x[1])\n",
    "            \n",
    "    return temp\n",
    "\n",
    "\n",
    "def compute_marginals(x,y):\n",
    "    temp = []\n",
    "    for i in range(4):\n",
    "        if i % 2 == 0 :\n",
    "            temp.append(y[i]*x[0])\n",
    "        else:\n",
    "            temp.append(y[i]*x[1])\n",
    "    return temp    \n",
    "\n",
    "\n",
    "f4_d = f4_to_d(np_d,np_e)\n",
    "msg_e = np.array(message_from_e)\n",
    "np_f4_d  = np.array(f4_d)\n",
    "\n",
    "np_mul = msg_e * np_f4_d\n",
    "print(\"Summing out on e --> \")\n",
    "print(np_mul)\n",
    "\n",
    "# Computing f5(d) by calling the function\n",
    "f5_d = f5(np_d)\n",
    "\n",
    "# compute message from d to f2\n",
    "d_f2 = d_to_f2(np_mul,f5_d)\n",
    "print(\"Message from variable d to factor f2 is --->\")\n",
    "print(d_f2)\n",
    "d_f2_norm = d_f2 / d_f2.max()\n",
    "print(\"Normalizing over the array, it can be written as --->\")\n",
    "print(d_f2_norm)\n",
    "\n",
    "\n",
    "# Potential function of b,c,d\n",
    "print(\"Potential function of b,c,d is ---> \")\n",
    "print(result2)\n",
    "\n",
    "# Multiplying by the normalized message from node d\n",
    "summer_extract = summer(d_f2_norm,result2)\n",
    "\n",
    "\n",
    "# Summing over possible values for potential function of b,c,d\n",
    "intermediate_summer = mul_vals(summer_extract)    \n",
    "print(\"Intermediate value for summing over the potential function is -->\")\n",
    "print(intermediate_summer)\n",
    "\n",
    "message_from_c = result3 # using the function f3(c)\n",
    "print(\"Message from c-->\")\n",
    "print(message_from_c)\n",
    "\n",
    "f2_bcd_final = compute_bcd(message_from_c, intermediate_summer)\n",
    "print(\"Final output after summing over factor B,C and D is --> \")\n",
    "print(f2_bcd_final)\n",
    "\n",
    "\n",
    "x = f2_bcd_final[0] + f2_bcd_final[1]\n",
    "y = f2_bcd_final[2] + f2_bcd_final[3]\n",
    "\n",
    "print(\"Summing over possible support values...\")\n",
    "print(\"Element 1 is \" + str(x))\n",
    "print(\"Element 2 is \" + str(y))\n",
    "\n",
    "temp_xy = [x,y]\n",
    "temp_xy = np.array(temp_xy) \n",
    "print(\"Temporary array holder for the given elements\")\n",
    "print(temp_xy)\n",
    "\n",
    "\n",
    "f1_ab = result1 # From the initially calculated value\n",
    "print(\" f1(a,b) is -->\")\n",
    "print(f1_ab)\n",
    "\n",
    "\n",
    "marginals = compute_marginals(temp_xy,f1_ab)\n",
    "print(\"Marginals are --> \")\n",
    "print(marginals)\n",
    "\n",
    "\n"
   ]
  },
  {
   "cell_type": "markdown",
   "metadata": {},
   "source": [
    "#  Marginal distribution table P(A=a, B=b)"
   ]
  },
  {
   "cell_type": "code",
   "execution_count": 52,
   "metadata": {},
   "outputs": [
    {
     "name": "stdout",
     "output_type": "stream",
     "text": [
      "function of a,b = f1 un-normalized values Marginal Distribution\n",
      "-------------------- -------------------- ---------------------\n",
      "                   1                 37.0   0.17370892018779344\n",
      "                   2                 34.0    0.1596244131455399\n",
      "                   2                 74.0    0.3474178403755869\n",
      "                   4                 68.0    0.3192488262910798\n"
     ]
    }
   ],
   "source": [
    "from astropy.table import Table, Column\n",
    "import numpy as np\n",
    "summation_marginals = np.sum(marginals)\n",
    "\n",
    "marginal_prob = np.zeros(0)\n",
    "c=np.zeros(0)\n",
    "# Calculating normalized probabilities\n",
    "c = np.append(marginal_prob, marginals/summation_marginals)\n",
    "\n",
    "\n",
    "# Plotting the table\n",
    "t = Table([f1_ab, marginals, c],names = ('function of a,b = f1','un-normalized values','Marginal Distribution'))\n",
    "print(t)\n"
   ]
  }
 ],
 "metadata": {
  "anaconda-cloud": {},
  "kernelspec": {
   "display_name": "Python 3",
   "language": "python",
   "name": "python3"
  },
  "language_info": {
   "codemirror_mode": {
    "name": "ipython",
    "version": 3
   },
   "file_extension": ".py",
   "mimetype": "text/x-python",
   "name": "python",
   "nbconvert_exporter": "python",
   "pygments_lexer": "ipython3",
   "version": "3.6.4"
  }
 },
 "nbformat": 4,
 "nbformat_minor": 1
}
